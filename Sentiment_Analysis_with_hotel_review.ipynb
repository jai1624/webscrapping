{
  "nbformat": 4,
  "nbformat_minor": 0,
  "metadata": {
    "colab": {
      "name": "Sentiment_Analysis_with_hotel_review.ipynb",
      "provenance": [],
      "collapsed_sections": [],
      "authorship_tag": "ABX9TyMSYvHA1qKjLeJlgsfjcSEs",
      "include_colab_link": true
    },
    "kernelspec": {
      "name": "python3",
      "display_name": "Python 3"
    }
  },
  "cells": [
    {
      "cell_type": "markdown",
      "metadata": {
        "id": "view-in-github",
        "colab_type": "text"
      },
      "source": [
        "<a href=\"https://colab.research.google.com/github/jai1624/webscrapping/blob/master/Sentiment_Analysis_with_hotel_review.ipynb\" target=\"_parent\"><img src=\"https://colab.research.google.com/assets/colab-badge.svg\" alt=\"Open In Colab\"/></a>"
      ]
    },
    {
      "cell_type": "markdown",
      "metadata": {
        "id": "ePgv6kbbQUl3",
        "colab_type": "text"
      },
      "source": [
        "# Load Raw Data\n",
        "\n",
        "Load the raw data.Based on the textual review split the postive and negative review.\n"
      ]
    },
    {
      "cell_type": "code",
      "metadata": {
        "id": "U7-alSihYTGG",
        "colab_type": "code",
        "colab": {}
      },
      "source": [
        "from google.colab import drive\n",
        "drive.mount('/content/drive/')"
      ],
      "execution_count": 0,
      "outputs": []
    },
    {
      "cell_type": "code",
      "metadata": {
        "id": "8siXBeGVZpGn",
        "colab_type": "code",
        "outputId": "6f5ed086-0150-49c9-b9ad-4d85bb69c2f8",
        "colab": {
          "base_uri": "https://localhost:8080/",
          "height": 50
        }
      },
      "source": [
        "!ls \"/content/drive/My Drive/Colab Notebooks/Sentiment-Analysis\""
      ],
      "execution_count": 0,
      "outputs": [
        {
          "output_type": "stream",
          "text": [
            "Final_T20Project-Copy1.ipynb  Sentiment_Analysis_with_hotel_review.ipynb\n",
            "London_hotel_reviews.csv      T20Project-Part1.ipynb\n"
          ],
          "name": "stdout"
        }
      ]
    },
    {
      "cell_type": "code",
      "metadata": {
        "id": "x-QCT8kJSsfW",
        "colab_type": "code",
        "outputId": "c191a74a-7ec0-4fd8-a2ac-af2fdf1c3274",
        "colab": {
          "base_uri": "https://localhost:8080/",
          "height": 455
        }
      },
      "source": [
        "import pandas as pd\n",
        "import matplotlib.pyplot as plt\n",
        "import numpy as np\n",
        "import seaborn as sns\n",
        "import math\n",
        "import warnings\n",
        "warnings.filterwarnings('ignore') # Hides warning\n",
        "warnings.filterwarnings(\"ignore\", category=DeprecationWarning)\n",
        "warnings.filterwarnings(\"ignore\",category=UserWarning)\n",
        "sns.set_style(\"whitegrid\") # Plotting style\n",
        "np.random.seed(7) # seeding random number generator\n",
        "%matplotlib inline\n",
        "#read data\n",
        "reviews_df = pd.read_csv(\"/content/drive/My Drive/Colab Notebooks/Sentiment-Analysis/London_hotel_reviews.csv\",encoding = \"utf-8\")\n",
        "reviews_df.head(5)\n",
        "reviews_df"
      ],
      "execution_count": 0,
      "outputs": [
        {
          "output_type": "stream",
          "text": [
            "/usr/local/lib/python3.6/dist-packages/statsmodels/tools/_testing.py:19: FutureWarning: pandas.util.testing is deprecated. Use the functions in the public API at pandas.testing instead.\n",
            "  import pandas.util.testing as tm\n"
          ],
          "name": "stderr"
        },
        {
          "output_type": "execute_result",
          "data": {
            "text/html": [
              "<div>\n",
              "<style scoped>\n",
              "    .dataframe tbody tr th:only-of-type {\n",
              "        vertical-align: middle;\n",
              "    }\n",
              "\n",
              "    .dataframe tbody tr th {\n",
              "        vertical-align: top;\n",
              "    }\n",
              "\n",
              "    .dataframe thead th {\n",
              "        text-align: right;\n",
              "    }\n",
              "</style>\n",
              "<table border=\"1\" class=\"dataframe\">\n",
              "  <thead>\n",
              "    <tr style=\"text-align: right;\">\n",
              "      <th></th>\n",
              "      <th>Property_Name</th>\n",
              "      <th>Review_Rating</th>\n",
              "      <th>Review_Title</th>\n",
              "      <th>Review_Text</th>\n",
              "      <th>Location</th>\n",
              "      <th>Date_Review</th>\n",
              "    </tr>\n",
              "  </thead>\n",
              "  <tbody>\n",
              "    <tr>\n",
              "      <th>0</th>\n",
              "      <td>Apex London Wall Hotel</td>\n",
              "      <td>5.0</td>\n",
              "      <td>Ottima qualità prezzo</td>\n",
              "      <td>Siamo stati a Londra per un week end ed abbiam...</td>\n",
              "      <td>Casale Monferrato, Italy</td>\n",
              "      <td>10/20/2012</td>\n",
              "    </tr>\n",
              "    <tr>\n",
              "      <th>1</th>\n",
              "      <td>Corinthia Hotel London</td>\n",
              "      <td>5.0</td>\n",
              "      <td>By far, my best hotel in the world</td>\n",
              "      <td>I had a pleasure of staying in this hotel for ...</td>\n",
              "      <td>Savannah, Georgia</td>\n",
              "      <td>3/23/2016</td>\n",
              "    </tr>\n",
              "    <tr>\n",
              "      <th>2</th>\n",
              "      <td>The Savoy</td>\n",
              "      <td>5.0</td>\n",
              "      <td>First visit to the American Bar at the Savoy</td>\n",
              "      <td>A very lovely first visit to this iconic hotel...</td>\n",
              "      <td>London</td>\n",
              "      <td>7/30/2013</td>\n",
              "    </tr>\n",
              "    <tr>\n",
              "      <th>3</th>\n",
              "      <td>Rhodes Hotel</td>\n",
              "      <td>4.0</td>\n",
              "      <td>Nice stay</td>\n",
              "      <td>3 of us stayed at the Rhodes Hotel for 4 night...</td>\n",
              "      <td>Maui, Hawaii</td>\n",
              "      <td>06/02/2012</td>\n",
              "    </tr>\n",
              "    <tr>\n",
              "      <th>4</th>\n",
              "      <td>The Savoy</td>\n",
              "      <td>5.0</td>\n",
              "      <td>Perfection</td>\n",
              "      <td>Form the moment we arrived until we left we ex...</td>\n",
              "      <td>London, United Kingdom</td>\n",
              "      <td>11/24/2017</td>\n",
              "    </tr>\n",
              "    <tr>\n",
              "      <th>...</th>\n",
              "      <td>...</td>\n",
              "      <td>...</td>\n",
              "      <td>...</td>\n",
              "      <td>...</td>\n",
              "      <td>...</td>\n",
              "      <td>...</td>\n",
              "    </tr>\n",
              "    <tr>\n",
              "      <th>27326</th>\n",
              "      <td>Corinthia Hotel London</td>\n",
              "      <td>5.0</td>\n",
              "      <td>The Best 5 star Luxury Hotel in London</td>\n",
              "      <td>I come to London often but since I stayed in t...</td>\n",
              "      <td>Munich, Germany</td>\n",
              "      <td>12/12/2015</td>\n",
              "    </tr>\n",
              "    <tr>\n",
              "      <th>27327</th>\n",
              "      <td>A To Z Hotel</td>\n",
              "      <td>3.0</td>\n",
              "      <td>Mala Estadia</td>\n",
              "      <td>En cuarto que nos tocó no había toallas y habí...</td>\n",
              "      <td>Mexico City, Mexico</td>\n",
              "      <td>9/29/2015</td>\n",
              "    </tr>\n",
              "    <tr>\n",
              "      <th>27328</th>\n",
              "      <td>The Rembrandt</td>\n",
              "      <td>4.0</td>\n",
              "      <td>Excellent hotel in outstanding location</td>\n",
              "      <td>This is a quality quiet hotel located in an ex...</td>\n",
              "      <td>Adelaide, Australia</td>\n",
              "      <td>07/11/2017</td>\n",
              "    </tr>\n",
              "    <tr>\n",
              "      <th>27329</th>\n",
              "      <td>The Dorchester</td>\n",
              "      <td>4.0</td>\n",
              "      <td>Trevliga rum, men högljud AC</td>\n",
              "      <td>Väldigt vackra rum, tyvärr med en mycket höglj...</td>\n",
              "      <td>Gothenburg, Sweden</td>\n",
              "      <td>05/06/2014</td>\n",
              "    </tr>\n",
              "    <tr>\n",
              "      <th>27330</th>\n",
              "      <td>The Savoy</td>\n",
              "      <td>5.0</td>\n",
              "      <td>Great as always</td>\n",
              "      <td>I have been staying in London hotels for 10 ye...</td>\n",
              "      <td>Ballymena, United Kingdom</td>\n",
              "      <td>4/24/2017</td>\n",
              "    </tr>\n",
              "  </tbody>\n",
              "</table>\n",
              "<p>27331 rows × 6 columns</p>\n",
              "</div>"
            ],
            "text/plain": [
              "                Property_Name  ...  Date_Review\n",
              "0      Apex London Wall Hotel  ...   10/20/2012\n",
              "1      Corinthia Hotel London  ...    3/23/2016\n",
              "2                   The Savoy  ...    7/30/2013\n",
              "3                Rhodes Hotel  ...   06/02/2012\n",
              "4                   The Savoy  ...   11/24/2017\n",
              "...                       ...  ...          ...\n",
              "27326  Corinthia Hotel London  ...   12/12/2015\n",
              "27327            A To Z Hotel  ...    9/29/2015\n",
              "27328           The Rembrandt  ...   07/11/2017\n",
              "27329          The Dorchester  ...   05/06/2014\n",
              "27330               The Savoy  ...    4/24/2017\n",
              "\n",
              "[27331 rows x 6 columns]"
            ]
          },
          "metadata": {
            "tags": []
          },
          "execution_count": 4
        }
      ]
    },
    {
      "cell_type": "markdown",
      "metadata": {
        "id": "2LYzP8RBoUvs",
        "colab_type": "text"
      },
      "source": [
        "# Descriptive Statistics\n",
        "\n",
        "*  Average Review Rating of 4.49 with low standard deviation.\n",
        "*  Most reviews are positive from second quartile onwards"
      ]
    },
    {
      "cell_type": "code",
      "metadata": {
        "id": "naxbcOeh0xwf",
        "colab_type": "code",
        "outputId": "49c06388-425e-472b-c4af-af4408095141",
        "colab": {
          "base_uri": "https://localhost:8080/",
          "height": 284
        }
      },
      "source": [
        "data = reviews_df.copy()\n",
        "data.describe()"
      ],
      "execution_count": 0,
      "outputs": [
        {
          "output_type": "execute_result",
          "data": {
            "text/html": [
              "<div>\n",
              "<style scoped>\n",
              "    .dataframe tbody tr th:only-of-type {\n",
              "        vertical-align: middle;\n",
              "    }\n",
              "\n",
              "    .dataframe tbody tr th {\n",
              "        vertical-align: top;\n",
              "    }\n",
              "\n",
              "    .dataframe thead th {\n",
              "        text-align: right;\n",
              "    }\n",
              "</style>\n",
              "<table border=\"1\" class=\"dataframe\">\n",
              "  <thead>\n",
              "    <tr style=\"text-align: right;\">\n",
              "      <th></th>\n",
              "      <th>Review_Rating</th>\n",
              "    </tr>\n",
              "  </thead>\n",
              "  <tbody>\n",
              "    <tr>\n",
              "      <th>count</th>\n",
              "      <td>27329.000000</td>\n",
              "    </tr>\n",
              "    <tr>\n",
              "      <th>mean</th>\n",
              "      <td>4.490980</td>\n",
              "    </tr>\n",
              "    <tr>\n",
              "      <th>std</th>\n",
              "      <td>0.891715</td>\n",
              "    </tr>\n",
              "    <tr>\n",
              "      <th>min</th>\n",
              "      <td>1.000000</td>\n",
              "    </tr>\n",
              "    <tr>\n",
              "      <th>25%</th>\n",
              "      <td>4.000000</td>\n",
              "    </tr>\n",
              "    <tr>\n",
              "      <th>50%</th>\n",
              "      <td>5.000000</td>\n",
              "    </tr>\n",
              "    <tr>\n",
              "      <th>75%</th>\n",
              "      <td>5.000000</td>\n",
              "    </tr>\n",
              "    <tr>\n",
              "      <th>max</th>\n",
              "      <td>5.000000</td>\n",
              "    </tr>\n",
              "  </tbody>\n",
              "</table>\n",
              "</div>"
            ],
            "text/plain": [
              "       Review_Rating\n",
              "count   27329.000000\n",
              "mean        4.490980\n",
              "std         0.891715\n",
              "min         1.000000\n",
              "25%         4.000000\n",
              "50%         5.000000\n",
              "75%         5.000000\n",
              "max         5.000000"
            ]
          },
          "metadata": {
            "tags": []
          },
          "execution_count": 5
        }
      ]
    },
    {
      "cell_type": "markdown",
      "metadata": {
        "id": "POjZS9Zf2V54",
        "colab_type": "text"
      },
      "source": [
        "# Data Information\n",
        "\n",
        "\n",
        "\n",
        "\n",
        "\n",
        "\n",
        "\n",
        "\n",
        "\n",
        "\n"
      ]
    },
    {
      "cell_type": "code",
      "metadata": {
        "id": "lngyh5ui3o0t",
        "colab_type": "code",
        "outputId": "e4b115c5-7052-4c73-c7ca-d1646af10ec0",
        "colab": {
          "base_uri": "https://localhost:8080/",
          "height": 235
        }
      },
      "source": [
        "data.info()"
      ],
      "execution_count": 0,
      "outputs": [
        {
          "output_type": "stream",
          "text": [
            "<class 'pandas.core.frame.DataFrame'>\n",
            "RangeIndex: 27331 entries, 0 to 27330\n",
            "Data columns (total 6 columns):\n",
            " #   Column         Non-Null Count  Dtype  \n",
            "---  ------         --------------  -----  \n",
            " 0   Property_Name  27329 non-null  object \n",
            " 1   Review_Rating  27329 non-null  float64\n",
            " 2   Review_Title   27329 non-null  object \n",
            " 3   Review_Text    27329 non-null  object \n",
            " 4   Location       23376 non-null  object \n",
            " 5   Date_Review    27328 non-null  object \n",
            "dtypes: float64(1), object(5)\n",
            "memory usage: 1.3+ MB\n"
          ],
          "name": "stdout"
        }
      ]
    },
    {
      "cell_type": "markdown",
      "metadata": {
        "id": "G_2IK2vqidUm",
        "colab_type": "text"
      },
      "source": [
        "\n",
        "\n",
        "* Review_Text category has only two missing data (27329/27331) -> Good news!\n",
        "* Drop Review_Title and Date_Review\n",
        "* Location droped due to missing value\n",
        "\n",
        "\n",
        "\n",
        "\n",
        "\n",
        "\n",
        "\n"
      ]
    },
    {
      "cell_type": "code",
      "metadata": {
        "id": "jlNYab9t3qoZ",
        "colab_type": "code",
        "outputId": "dbfc3a5f-101f-4281-f322-c29e43b609f0",
        "colab": {
          "base_uri": "https://localhost:8080/",
          "height": 185
        }
      },
      "source": [
        "# Unique Property Name\n",
        "data[\"Property_Name\"].unique()"
      ],
      "execution_count": 0,
      "outputs": [
        {
          "output_type": "execute_result",
          "data": {
            "text/plain": [
              "array(['Apex London Wall Hotel', 'Corinthia Hotel London', 'The Savoy',\n",
              "       'Rhodes Hotel', 'Mondrian London at Sea Containers',\n",
              "       'Mandarin Oriental Hyde Park, London', 'The Dorchester',\n",
              "       'A To Z Hotel', 'Ridgemount Hotel',\n",
              "       'The Wellesley Knightsbridge, a Luxury Collection Hotel, London',\n",
              "       'The Rembrandt', 'London Guest House',\n",
              "       'Hotel Xenia, Autograph Collection', 'Bulgari Hotel, London',\n",
              "       'The Lanesborough', '45 Park Lane - Dorchester Collection',\n",
              "       'Marble Arch Hotel', 'Newham Hotel', 'Hartley Hotel',\n",
              "       'City View Hotel', nan], dtype=object)"
            ]
          },
          "metadata": {
            "tags": []
          },
          "execution_count": 7
        }
      ]
    },
    {
      "cell_type": "markdown",
      "metadata": {
        "id": "nkvKwnkv6PPn",
        "colab_type": "text"
      },
      "source": [
        "# To find unique property name"
      ]
    },
    {
      "cell_type": "code",
      "metadata": {
        "id": "ursXYxeM6Nxn",
        "colab_type": "code",
        "outputId": "4cb2e8ea-19db-499a-ef66-09141ce493b8",
        "colab": {
          "base_uri": "https://localhost:8080/",
          "height": 34
        }
      },
      "source": [
        "property_unique = len(data[\"Property_Name\"].unique())\n",
        "print(\"Number of Unique property name: \" + str(property_unique))"
      ],
      "execution_count": 0,
      "outputs": [
        {
          "output_type": "stream",
          "text": [
            "Number of Unique property name: 21\n"
          ],
          "name": "stdout"
        }
      ]
    },
    {
      "cell_type": "markdown",
      "metadata": {
        "id": "z-OuOq5e7RTG",
        "colab_type": "text"
      },
      "source": [
        "**Visualizing the distributions of numerical variables:**"
      ]
    },
    {
      "cell_type": "code",
      "metadata": {
        "id": "Eyg7U09l6kNW",
        "colab_type": "code",
        "outputId": "f138f044-df75-4df1-d161-02084ea21a5e",
        "colab": {
          "base_uri": "https://localhost:8080/",
          "height": 879
        }
      },
      "source": [
        "data.hist(bins=50, figsize=(20,15)) # builds histogram and set the number of bins and fig size (width, height)\n",
        "plt.show()"
      ],
      "execution_count": 0,
      "outputs": [
        {
          "output_type": "display_data",
          "data": {
            "image/png": "[encoded data removed]",
            "text/plain": [
              "<Figure size 1440x1080 with 1 Axes>"
            ]
          },
          "metadata": {
            "tags": []
          }
        }
      ]
    },
    {
      "cell_type": "markdown",
      "metadata": {
        "id": "VGbeIWQQ-qp_",
        "colab_type": "text"
      },
      "source": [
        "Based on the above distribution \n",
        "\n",
        "> Review Rating\n",
        "\n",
        "*   Majority of hotels are rated highly (looking at rating distribution)\n",
        "*   There is twice the amount of 5 start ratings than the other ratings combined\n",
        "\n",
        "\n"
      ]
    },
    {
      "cell_type": "markdown",
      "metadata": {
        "id": "JioT2-alDVRf",
        "colab_type": "text"
      },
      "source": [
        "# Split into Train/Test\n",
        "\n",
        "*   Split the data into training set and test sets\n",
        "*   Our aim is to train a sentiment analysis classifier \n",
        "*   Since the majority of reviews are positive (5 stars), we will need to do a stratified split on the reviews score to ensure that we don't train the classifier on imbalanced data\n",
        "*   To use sklearn's Stratified ShuffleSplit class, we're going to remove all samples that have NAN in review score, then covert all review scores to integer datatype\n",
        "\n",
        "\n",
        "\n"
      ]
    },
    {
      "cell_type": "code",
      "metadata": {
        "id": "IlmpZkVtScLe",
        "colab_type": "code",
        "outputId": "208fa5b3-803e-443c-caed-1bd25b74e055",
        "colab": {
          "base_uri": "https://localhost:8080/",
          "height": 50
        }
      },
      "source": [
        "from sklearn.model_selection import StratifiedShuffleSplit\n",
        "print(\"Before {}\".format(len(data)))\n",
        "dataAfter = data.dropna(subset=[\"Review_Rating\"]) # removes all NAN in Review_Rating\n",
        "print(\"After {}\".format(len(dataAfter)))\n",
        "dataAfter[\"Review_Rating\"] = dataAfter[\"Review_Rating\"].astype(int)"
      ],
      "execution_count": 0,
      "outputs": [
        {
          "output_type": "stream",
          "text": [
            "Before 27331\n",
            "After 27329\n"
          ],
          "name": "stdout"
        }
      ]
    },
    {
      "cell_type": "code",
      "metadata": {
        "id": "HqUAV2LVTExL",
        "colab_type": "code",
        "colab": {}
      },
      "source": [
        "\n",
        "split = StratifiedShuffleSplit(n_splits=5, test_size=0.2)\n",
        "for train_index, test_index in split.split(dataAfter, dataAfter[\"Review_Rating\"]): \n",
        "    strat_train = dataAfter.reindex(train_index)\n",
        "    strat_test = dataAfter.reindex(test_index)"
      ],
      "execution_count": 0,
      "outputs": []
    },
    {
      "cell_type": "markdown",
      "metadata": {
        "id": "fgbuv7bEndBR",
        "colab_type": "text"
      },
      "source": [
        "\n",
        "\n",
        "```\n",
        "# This is formatted as code\n",
        "split = StratifiedShuffleSplit(n_splits=5, test_size=0.2)\n",
        "for train_index, test_index in split.split(dataAfter, dataAfter[\"Review_Rating\"]): \n",
        "    strat_train = dataAfter.reindex(train_index)\n",
        "    strat_test = dataAfter.reindex(test_index)\n",
        "```\n",
        "\n",
        "\n",
        "```\n",
        "# Output\n",
        "strat_train = 21863\n",
        "strat_tes = 5466\n",
        "\n",
        "```\n",
        "\n",
        "\n",
        "\n"
      ]
    },
    {
      "cell_type": "markdown",
      "metadata": {
        "id": "qfG1CTrPV9cJ",
        "colab_type": "text"
      },
      "source": [
        "**Check to see if train/test sets were stratified proportionately in comparision to raw data.**"
      ]
    },
    {
      "cell_type": "code",
      "metadata": {
        "id": "JNMssYrwWKGQ",
        "colab_type": "code",
        "outputId": "0c7c2551-2aa3-45fc-a290-6e7ab4afd9ba",
        "colab": {
          "base_uri": "https://localhost:8080/",
          "height": 34
        }
      },
      "source": [
        "len(strat_train)"
      ],
      "execution_count": 0,
      "outputs": [
        {
          "output_type": "execute_result",
          "data": {
            "text/plain": [
              "21863"
            ]
          },
          "metadata": {
            "tags": []
          },
          "execution_count": 97
        }
      ]
    },
    {
      "cell_type": "code",
      "metadata": {
        "id": "55BuxbAPWOqZ",
        "colab_type": "code",
        "outputId": "e2c635ce-ee22-4a58-db64-3e955b7bf3b7",
        "colab": {
          "base_uri": "https://localhost:8080/",
          "height": 252
        }
      },
      "source": [
        "strat_train[\"Review_Rating\"].value_counts()/len(strat_train) # value_count() counts all the values based on column\n",
        "print(strat_train)"
      ],
      "execution_count": 0,
      "outputs": [
        {
          "output_type": "stream",
          "text": [
            "                           Property_Name  ...  Date_Review\n",
            "15561  Mondrian London at Sea Containers  ...    9/18/2015\n",
            "2842                           The Savoy  ...    7/19/2017\n",
            "11419                       Rhodes Hotel  ...   04/08/2015\n",
            "22675  Mondrian London at Sea Containers  ...    5/22/2016\n",
            "12466                       Rhodes Hotel  ...    7/29/2014\n",
            "...                                  ...  ...          ...\n",
            "19966                          The Savoy  ...    7/21/2016\n",
            "19964                          The Savoy  ...   05/08/2018\n",
            "27272                          The Savoy  ...    6/22/2018\n",
            "17186                          The Savoy  ...   05/06/2017\n",
            "24561                      The Rembrandt  ...    1/16/2018\n",
            "\n",
            "[21863 rows x 6 columns]\n"
          ],
          "name": "stdout"
        }
      ]
    },
    {
      "cell_type": "code",
      "metadata": {
        "id": "FcN84CQXXMwN",
        "colab_type": "code",
        "outputId": "cd032c90-9d10-45b5-a140-42466c9f263d",
        "colab": {
          "base_uri": "https://localhost:8080/",
          "height": 34
        }
      },
      "source": [
        "len(strat_test)"
      ],
      "execution_count": 0,
      "outputs": [
        {
          "output_type": "execute_result",
          "data": {
            "text/plain": [
              "5466"
            ]
          },
          "metadata": {
            "tags": []
          },
          "execution_count": 99
        }
      ]
    },
    {
      "cell_type": "code",
      "metadata": {
        "id": "4Y6Z4-g6XRSe",
        "colab_type": "code",
        "outputId": "13ccfa17-43bb-4dd4-b9b3-5c032022825c",
        "colab": {
          "base_uri": "https://localhost:8080/",
          "height": 118
        }
      },
      "source": [
        "strat_test[\"Review_Rating\"].value_counts()/len(strat_test)"
      ],
      "execution_count": 0,
      "outputs": [
        {
          "output_type": "execute_result",
          "data": {
            "text/plain": [
              "5.0    0.683315\n",
              "4.0    0.218441\n",
              "3.0    0.053421\n",
              "1.0    0.022320\n",
              "2.0    0.022320\n",
              "Name: Review_Rating, dtype: float64"
            ]
          },
          "metadata": {
            "tags": []
          },
          "execution_count": 100
        }
      ]
    },
    {
      "cell_type": "markdown",
      "metadata": {
        "id": "5eRyp3IdX6HS",
        "colab_type": "text"
      },
      "source": [
        "# Data Exploration (Training Set)"
      ]
    },
    {
      "cell_type": "code",
      "metadata": {
        "id": "9EusBza_Yokx",
        "colab_type": "code",
        "outputId": "aec177d8-c2ca-4239-c8a0-56d3e9c336b0",
        "colab": {
          "base_uri": "https://localhost:8080/",
          "height": 195
        }
      },
      "source": [
        "reviews = strat_train.copy()\n",
        "reviews.head(5)"
      ],
      "execution_count": 0,
      "outputs": [
        {
          "output_type": "execute_result",
          "data": {
            "text/html": [
              "<div>\n",
              "<style scoped>\n",
              "    .dataframe tbody tr th:only-of-type {\n",
              "        vertical-align: middle;\n",
              "    }\n",
              "\n",
              "    .dataframe tbody tr th {\n",
              "        vertical-align: top;\n",
              "    }\n",
              "\n",
              "    .dataframe thead th {\n",
              "        text-align: right;\n",
              "    }\n",
              "</style>\n",
              "<table border=\"1\" class=\"dataframe\">\n",
              "  <thead>\n",
              "    <tr style=\"text-align: right;\">\n",
              "      <th></th>\n",
              "      <th>Property_Name</th>\n",
              "      <th>Review_Rating</th>\n",
              "      <th>Review_Title</th>\n",
              "      <th>Review_Text</th>\n",
              "      <th>Location</th>\n",
              "      <th>Date_Review</th>\n",
              "    </tr>\n",
              "  </thead>\n",
              "  <tbody>\n",
              "    <tr>\n",
              "      <th>15561</th>\n",
              "      <td>Mondrian London at Sea Containers</td>\n",
              "      <td>5.0</td>\n",
              "      <td>Great hotel in a superb location.</td>\n",
              "      <td>The Mondrian sits on the South Bank just acros...</td>\n",
              "      <td>Colchester, United Kingdom</td>\n",
              "      <td>9/18/2015</td>\n",
              "    </tr>\n",
              "    <tr>\n",
              "      <th>2842</th>\n",
              "      <td>The Savoy</td>\n",
              "      <td>5.0</td>\n",
              "      <td>One of the best !</td>\n",
              "      <td>Our room was very nice and the bathroom lovely...</td>\n",
              "      <td>Needham, Massachusetts</td>\n",
              "      <td>7/19/2017</td>\n",
              "    </tr>\n",
              "    <tr>\n",
              "      <th>11419</th>\n",
              "      <td>Rhodes Hotel</td>\n",
              "      <td>5.0</td>\n",
              "      <td>Home away from Home</td>\n",
              "      <td>I stay at Rhodes Hotel every time I return to ...</td>\n",
              "      <td>Gold Coast, Australia</td>\n",
              "      <td>04/08/2015</td>\n",
              "    </tr>\n",
              "    <tr>\n",
              "      <th>22675</th>\n",
              "      <td>Mondrian London at Sea Containers</td>\n",
              "      <td>5.0</td>\n",
              "      <td>Lovely, relaxing hotel</td>\n",
              "      <td>I was treated to a 2 night stay here for my bi...</td>\n",
              "      <td>King's Lynn, United Kingdom</td>\n",
              "      <td>5/22/2016</td>\n",
              "    </tr>\n",
              "    <tr>\n",
              "      <th>12466</th>\n",
              "      <td>Rhodes Hotel</td>\n",
              "      <td>3.0</td>\n",
              "      <td>Not bad for London</td>\n",
              "      <td>It's hard to find a good hotel in London becau...</td>\n",
              "      <td>NaN</td>\n",
              "      <td>7/29/2014</td>\n",
              "    </tr>\n",
              "  </tbody>\n",
              "</table>\n",
              "</div>"
            ],
            "text/plain": [
              "                           Property_Name  ...  Date_Review\n",
              "15561  Mondrian London at Sea Containers  ...    9/18/2015\n",
              "2842                           The Savoy  ...    7/19/2017\n",
              "11419                       Rhodes Hotel  ...   04/08/2015\n",
              "22675  Mondrian London at Sea Containers  ...    5/22/2016\n",
              "12466                       Rhodes Hotel  ...    7/29/2014\n",
              "\n",
              "[5 rows x 6 columns]"
            ]
          },
          "metadata": {
            "tags": []
          },
          "execution_count": 149
        }
      ]
    },
    {
      "cell_type": "markdown",
      "metadata": {
        "id": "zZrEdkk0BMnU",
        "colab_type": "text"
      },
      "source": [
        "Will explore the following columns:\n",
        "\n",
        "\n",
        "*   Property_Name\n",
        "*   Review_Rating\n",
        "*   Review_Text - not possible since text is an long words\n",
        "\n",
        "---\n",
        "Explore Property_Name\n",
        "\n",
        "\n",
        "\n"
      ]
    },
    {
      "cell_type": "code",
      "metadata": {
        "id": "AzmdI73fbDWg",
        "colab_type": "code",
        "outputId": "07baef73-b72f-4e66-b451-e4cf5b81833a",
        "colab": {
          "base_uri": "https://localhost:8080/",
          "height": 34
        }
      },
      "source": [
        "# Entire training dataset average rating\n",
        "reviews[\"Review_Rating\"].mean()"
      ],
      "execution_count": 0,
      "outputs": [
        {
          "output_type": "execute_result",
          "data": {
            "text/plain": [
              "4.484127710182051"
            ]
          },
          "metadata": {
            "tags": []
          },
          "execution_count": 102
        }
      ]
    },
    {
      "cell_type": "markdown",
      "metadata": {
        "id": "0OzxQW0ZEXJP",
        "colab_type": "text"
      },
      "source": [
        "**Property Name**\n"
      ]
    },
    {
      "cell_type": "code",
      "metadata": {
        "id": "CmdPtaKlEFwn",
        "colab_type": "code",
        "outputId": "c6d61f87-74fb-4149-fe68-b545af0e07c2",
        "colab": {
          "base_uri": "https://localhost:8080/",
          "height": 34
        }
      },
      "source": [
        "len(reviews[\"Property_Name\"].unique())"
      ],
      "execution_count": 0,
      "outputs": [
        {
          "output_type": "execute_result",
          "data": {
            "text/plain": [
              "21"
            ]
          },
          "metadata": {
            "tags": []
          },
          "execution_count": 112
        }
      ]
    },
    {
      "cell_type": "code",
      "metadata": {
        "id": "xM_aP1ijEe4W",
        "colab_type": "code",
        "outputId": "6e3357a9-d835-44d1-c498-47aa371cbf5c",
        "colab": {
          "base_uri": "https://localhost:8080/",
          "height": 235
        }
      },
      "source": [
        "reviews.info()"
      ],
      "execution_count": 0,
      "outputs": [
        {
          "output_type": "stream",
          "text": [
            "<class 'pandas.core.frame.DataFrame'>\n",
            "Int64Index: 21863 entries, 15561 to 24561\n",
            "Data columns (total 6 columns):\n",
            " #   Column         Non-Null Count  Dtype  \n",
            "---  ------         --------------  -----  \n",
            " 0   Property_Name  21862 non-null  object \n",
            " 1   Review_Rating  21862 non-null  float64\n",
            " 2   Review_Title   21862 non-null  object \n",
            " 3   Review_Text    21862 non-null  object \n",
            " 4   Location       18672 non-null  object \n",
            " 5   Date_Review    21861 non-null  object \n",
            "dtypes: float64(1), object(5)\n",
            "memory usage: 1.8+ MB\n"
          ],
          "name": "stdout"
        }
      ]
    },
    {
      "cell_type": "code",
      "metadata": {
        "id": "ZpKd1-tck_7c",
        "colab_type": "code",
        "outputId": "d2a85ccb-f013-4e97-ac20-2922b38671bc",
        "colab": {
          "base_uri": "https://localhost:8080/",
          "height": 684
        }
      },
      "source": [
        "property_count_ix = reviews[\"Property_Name\"].value_counts().index\n",
        "plt.subplots(figsize=(16,12))\n",
        "plt.subplot(2,1,1)\n",
        "reviews[\"Property_Name\"].value_counts().plot(kind=\"bar\",title= \"Hotel vs Review\")\n"
      ],
      "execution_count": 0,
      "outputs": [
        {
          "output_type": "execute_result",
          "data": {
            "text/plain": [
              "<matplotlib.axes._subplots.AxesSubplot at 0x7f5ec8a29518>"
            ]
          },
          "metadata": {
            "tags": []
          },
          "execution_count": 147
        },
        {
          "output_type": "display_data",
          "data": {
            "image/png": "[encoded data removed]",
            "text/plain": [
              "<Figure size 1152x864 with 1 Axes>"
            ]
          },
          "metadata": {
            "tags": []
          }
        }
      ]
    },
    {
      "cell_type": "code",
      "metadata": {
        "id": "K4ZqwUAZG5Ed",
        "colab_type": "code",
        "outputId": "6f58aa9d-f3ec-406b-b553-0aed6b261340",
        "colab": {
          "base_uri": "https://localhost:8080/",
          "height": 666
        }
      },
      "source": [
        "plt.subplots(figsize=(13,12))\n",
        "plt.subplot(2,1,2)\n",
        "sns.pointplot(x=\"Property_Name\", y=\"Review_Rating\", order=asins_count_ix, data=reviews)\n",
        "plt.xticks(rotation=90)\n",
        "plt.show()"
      ],
      "execution_count": 0,
      "outputs": [
        {
          "output_type": "display_data",
          "data": {
            "image/png": "[encoded data removed]",
            "text/plain": [
              "<Figure size 936x864 with 1 Axes>"
            ]
          },
          "metadata": {
            "tags": []
          }
        }
      ]
    },
    {
      "cell_type": "markdown",
      "metadata": {
        "id": "Hd-OWVHCZUrW",
        "colab_type": "text"
      },
      "source": [
        "* The most frequently reviewed hotel have their average Review_Rating in the 4.5 - 4.8 range, with little variance\n",
        "* Although there is a slight inverse relationship between the hotel and average review ratings for the first 4 , this relationship is not significant since the average review for the first 4 hotels are rated between 4.5 - 4.8, which is considered good overall reviews.\n",
        "*For hotels with lower frequencies as shown on the bar graph (top), we see that their corresponding average review ratings on the point-plot graph (bottom) has significantly higher variance as shown by the length of the vertical lines. As a result, we suggest that, the average review ratings for hotle with lower frequencies are not significant for our analysis due to high variance\n",
        "* On the other hand, due to their lower frequencies for hotle, suggest that this is a result of less customer satisfaction\n",
        "    \n",
        "* Furthermore, the last 4 hotles have no variance due to their significantly lower frequencies, and although the review ratings are a perfect 5.0, but we should not consider the significance of these review ratings due to lower frequency as explained in \n",
        "\n",
        "\n",
        "**that point-plot graph automatically takes the average of the Review_Rating data.**\n"
      ]
    },
    {
      "cell_type": "markdown",
      "metadata": {
        "id": "x2VNL3JTeGrE",
        "colab_type": "text"
      },
      "source": [
        "# **Correlations**"
      ]
    },
    {
      "cell_type": "code",
      "metadata": {
        "id": "nsaOax2jeR4G",
        "colab_type": "code",
        "outputId": "6b9ff31f-d66a-440d-808b-cf1b6d36fb5a",
        "colab": {
          "base_uri": "https://localhost:8080/",
          "height": 235
        }
      },
      "source": [
        "reviews.info()"
      ],
      "execution_count": 0,
      "outputs": [
        {
          "output_type": "stream",
          "text": [
            "<class 'pandas.core.frame.DataFrame'>\n",
            "Int64Index: 21863 entries, 15561 to 24561\n",
            "Data columns (total 6 columns):\n",
            " #   Column         Non-Null Count  Dtype  \n",
            "---  ------         --------------  -----  \n",
            " 0   Property_Name  21862 non-null  object \n",
            " 1   Review_Rating  21862 non-null  float64\n",
            " 2   Review_Title   21862 non-null  object \n",
            " 3   Review_Text    21862 non-null  object \n",
            " 4   Location       18672 non-null  object \n",
            " 5   Date_Review    21861 non-null  object \n",
            "dtypes: float64(1), object(5)\n",
            "memory usage: 1.2+ MB\n"
          ],
          "name": "stdout"
        }
      ]
    },
    {
      "cell_type": "code",
      "metadata": {
        "id": "yC3aMvsUexoA",
        "colab_type": "code",
        "outputId": "0c13ba22-ad7f-425f-a556-e83b9e65adb6",
        "colab": {
          "base_uri": "https://localhost:8080/",
          "height": 195
        }
      },
      "source": [
        "counts = reviews[\"Property_Name\"].value_counts().to_frame()\n",
        "counts.head()"
      ],
      "execution_count": 0,
      "outputs": [
        {
          "output_type": "execute_result",
          "data": {
            "text/html": [
              "<div>\n",
              "<style scoped>\n",
              "    .dataframe tbody tr th:only-of-type {\n",
              "        vertical-align: middle;\n",
              "    }\n",
              "\n",
              "    .dataframe tbody tr th {\n",
              "        vertical-align: top;\n",
              "    }\n",
              "\n",
              "    .dataframe thead th {\n",
              "        text-align: right;\n",
              "    }\n",
              "</style>\n",
              "<table border=\"1\" class=\"dataframe\">\n",
              "  <thead>\n",
              "    <tr style=\"text-align: right;\">\n",
              "      <th></th>\n",
              "      <th>Property_Name</th>\n",
              "    </tr>\n",
              "  </thead>\n",
              "  <tbody>\n",
              "    <tr>\n",
              "      <th>The Savoy</th>\n",
              "      <td>4305</td>\n",
              "    </tr>\n",
              "    <tr>\n",
              "      <th>Mondrian London at Sea Containers</th>\n",
              "      <td>3484</td>\n",
              "    </tr>\n",
              "    <tr>\n",
              "      <th>The Rembrandt</th>\n",
              "      <td>2409</td>\n",
              "    </tr>\n",
              "    <tr>\n",
              "      <th>Corinthia Hotel London</th>\n",
              "      <td>2261</td>\n",
              "    </tr>\n",
              "    <tr>\n",
              "      <th>Apex London Wall Hotel</th>\n",
              "      <td>1760</td>\n",
              "    </tr>\n",
              "  </tbody>\n",
              "</table>\n",
              "</div>"
            ],
            "text/plain": [
              "                                   Property_Name\n",
              "The Savoy                                   4305\n",
              "Mondrian London at Sea Containers           3484\n",
              "The Rembrandt                               2409\n",
              "Corinthia Hotel London                      2261\n",
              "Apex London Wall Hotel                      1760"
            ]
          },
          "metadata": {
            "tags": []
          },
          "execution_count": 156
        }
      ]
    },
    {
      "cell_type": "code",
      "metadata": {
        "id": "nzqlZoxKfLiz",
        "colab_type": "code",
        "outputId": "772c13cc-3510-4e71-fd9e-fa8d988aa77c",
        "colab": {
          "base_uri": "https://localhost:8080/",
          "height": 225
        }
      },
      "source": [
        "avg_rating = reviews.groupby(\"Property_Name\")[\"Review_Rating\"].mean().to_frame()\n",
        "avg_rating.head()"
      ],
      "execution_count": 0,
      "outputs": [
        {
          "output_type": "execute_result",
          "data": {
            "text/html": [
              "<div>\n",
              "<style scoped>\n",
              "    .dataframe tbody tr th:only-of-type {\n",
              "        vertical-align: middle;\n",
              "    }\n",
              "\n",
              "    .dataframe tbody tr th {\n",
              "        vertical-align: top;\n",
              "    }\n",
              "\n",
              "    .dataframe thead th {\n",
              "        text-align: right;\n",
              "    }\n",
              "</style>\n",
              "<table border=\"1\" class=\"dataframe\">\n",
              "  <thead>\n",
              "    <tr style=\"text-align: right;\">\n",
              "      <th></th>\n",
              "      <th>Review_Rating</th>\n",
              "    </tr>\n",
              "    <tr>\n",
              "      <th>Property_Name</th>\n",
              "      <th></th>\n",
              "    </tr>\n",
              "  </thead>\n",
              "  <tbody>\n",
              "    <tr>\n",
              "      <th>45 Park Lane - Dorchester Collection</th>\n",
              "      <td>4.753165</td>\n",
              "    </tr>\n",
              "    <tr>\n",
              "      <th>A To Z Hotel</th>\n",
              "      <td>2.168750</td>\n",
              "    </tr>\n",
              "    <tr>\n",
              "      <th>Apex London Wall Hotel</th>\n",
              "      <td>4.689773</td>\n",
              "    </tr>\n",
              "    <tr>\n",
              "      <th>Bulgari Hotel, London</th>\n",
              "      <td>4.738292</td>\n",
              "    </tr>\n",
              "    <tr>\n",
              "      <th>City View Hotel</th>\n",
              "      <td>1.785714</td>\n",
              "    </tr>\n",
              "  </tbody>\n",
              "</table>\n",
              "</div>"
            ],
            "text/plain": [
              "                                      Review_Rating\n",
              "Property_Name                                      \n",
              "45 Park Lane - Dorchester Collection       4.753165\n",
              "A To Z Hotel                               2.168750\n",
              "Apex London Wall Hotel                     4.689773\n",
              "Bulgari Hotel, London                      4.738292\n",
              "City View Hotel                            1.785714"
            ]
          },
          "metadata": {
            "tags": []
          },
          "execution_count": 159
        }
      ]
    },
    {
      "cell_type": "code",
      "metadata": {
        "id": "SiN8Wap3gGfS",
        "colab_type": "code",
        "outputId": "54bb5c02-ec1a-43dc-9dfe-0ba19e3dbe06",
        "colab": {
          "base_uri": "https://localhost:8080/",
          "height": 656
        }
      },
      "source": [
        "table = counts.join(avg_rating)\n",
        "table"
      ],
      "execution_count": 0,
      "outputs": [
        {
          "output_type": "execute_result",
          "data": {
            "text/html": [
              "<div>\n",
              "<style scoped>\n",
              "    .dataframe tbody tr th:only-of-type {\n",
              "        vertical-align: middle;\n",
              "    }\n",
              "\n",
              "    .dataframe tbody tr th {\n",
              "        vertical-align: top;\n",
              "    }\n",
              "\n",
              "    .dataframe thead th {\n",
              "        text-align: right;\n",
              "    }\n",
              "</style>\n",
              "<table border=\"1\" class=\"dataframe\">\n",
              "  <thead>\n",
              "    <tr style=\"text-align: right;\">\n",
              "      <th></th>\n",
              "      <th>Property_Name</th>\n",
              "      <th>Review_Rating</th>\n",
              "    </tr>\n",
              "  </thead>\n",
              "  <tbody>\n",
              "    <tr>\n",
              "      <th>The Savoy</th>\n",
              "      <td>4305</td>\n",
              "      <td>4.631359</td>\n",
              "    </tr>\n",
              "    <tr>\n",
              "      <th>Mondrian London at Sea Containers</th>\n",
              "      <td>3484</td>\n",
              "      <td>4.627440</td>\n",
              "    </tr>\n",
              "    <tr>\n",
              "      <th>The Rembrandt</th>\n",
              "      <td>2409</td>\n",
              "      <td>4.188045</td>\n",
              "    </tr>\n",
              "    <tr>\n",
              "      <th>Corinthia Hotel London</th>\n",
              "      <td>2261</td>\n",
              "      <td>4.786378</td>\n",
              "    </tr>\n",
              "    <tr>\n",
              "      <th>Apex London Wall Hotel</th>\n",
              "      <td>1760</td>\n",
              "      <td>4.689773</td>\n",
              "    </tr>\n",
              "    <tr>\n",
              "      <th>The Dorchester</th>\n",
              "      <td>1396</td>\n",
              "      <td>4.629656</td>\n",
              "    </tr>\n",
              "    <tr>\n",
              "      <th>Rhodes Hotel</th>\n",
              "      <td>1236</td>\n",
              "      <td>4.048544</td>\n",
              "    </tr>\n",
              "    <tr>\n",
              "      <th>Hotel Xenia, Autograph Collection</th>\n",
              "      <td>1223</td>\n",
              "      <td>4.507768</td>\n",
              "    </tr>\n",
              "    <tr>\n",
              "      <th>Ridgemount Hotel</th>\n",
              "      <td>1086</td>\n",
              "      <td>4.348066</td>\n",
              "    </tr>\n",
              "    <tr>\n",
              "      <th>Mandarin Oriental Hyde Park, London</th>\n",
              "      <td>972</td>\n",
              "      <td>4.291152</td>\n",
              "    </tr>\n",
              "    <tr>\n",
              "      <th>Bulgari Hotel, London</th>\n",
              "      <td>363</td>\n",
              "      <td>4.738292</td>\n",
              "    </tr>\n",
              "    <tr>\n",
              "      <th>The Wellesley Knightsbridge, a Luxury Collection Hotel, London</th>\n",
              "      <td>276</td>\n",
              "      <td>4.597826</td>\n",
              "    </tr>\n",
              "    <tr>\n",
              "      <th>The Lanesborough</th>\n",
              "      <td>271</td>\n",
              "      <td>4.800738</td>\n",
              "    </tr>\n",
              "    <tr>\n",
              "      <th>London Guest House</th>\n",
              "      <td>214</td>\n",
              "      <td>4.112150</td>\n",
              "    </tr>\n",
              "    <tr>\n",
              "      <th>Newham Hotel</th>\n",
              "      <td>211</td>\n",
              "      <td>2.265403</td>\n",
              "    </tr>\n",
              "    <tr>\n",
              "      <th>A To Z Hotel</th>\n",
              "      <td>160</td>\n",
              "      <td>2.168750</td>\n",
              "    </tr>\n",
              "    <tr>\n",
              "      <th>45 Park Lane - Dorchester Collection</th>\n",
              "      <td>158</td>\n",
              "      <td>4.753165</td>\n",
              "    </tr>\n",
              "    <tr>\n",
              "      <th>Hartley Hotel</th>\n",
              "      <td>34</td>\n",
              "      <td>1.588235</td>\n",
              "    </tr>\n",
              "    <tr>\n",
              "      <th>Marble Arch Hotel</th>\n",
              "      <td>29</td>\n",
              "      <td>3.758621</td>\n",
              "    </tr>\n",
              "    <tr>\n",
              "      <th>City View Hotel</th>\n",
              "      <td>14</td>\n",
              "      <td>1.785714</td>\n",
              "    </tr>\n",
              "  </tbody>\n",
              "</table>\n",
              "</div>"
            ],
            "text/plain": [
              "                                                    Property_Name  Review_Rating\n",
              "The Savoy                                                    4305       4.631359\n",
              "Mondrian London at Sea Containers                            3484       4.627440\n",
              "The Rembrandt                                                2409       4.188045\n",
              "Corinthia Hotel London                                       2261       4.786378\n",
              "Apex London Wall Hotel                                       1760       4.689773\n",
              "The Dorchester                                               1396       4.629656\n",
              "Rhodes Hotel                                                 1236       4.048544\n",
              "Hotel Xenia, Autograph Collection                            1223       4.507768\n",
              "Ridgemount Hotel                                             1086       4.348066\n",
              "Mandarin Oriental Hyde Park, London                           972       4.291152\n",
              "Bulgari Hotel, London                                         363       4.738292\n",
              "The Wellesley Knightsbridge, a Luxury Collectio...            276       4.597826\n",
              "The Lanesborough                                              271       4.800738\n",
              "London Guest House                                            214       4.112150\n",
              "Newham Hotel                                                  211       2.265403\n",
              "A To Z Hotel                                                  160       2.168750\n",
              "45 Park Lane - Dorchester Collection                          158       4.753165\n",
              "Hartley Hotel                                                  34       1.588235\n",
              "Marble Arch Hotel                                              29       3.758621\n",
              "City View Hotel                                                14       1.785714"
            ]
          },
          "metadata": {
            "tags": []
          },
          "execution_count": 161
        }
      ]
    },
    {
      "cell_type": "code",
      "metadata": {
        "id": "8zyPH-fogiUf",
        "colab_type": "code",
        "outputId": "539f2765-3e54-491d-b173-8dd5ab8c046f",
        "colab": {
          "base_uri": "https://localhost:8080/",
          "height": 354
        }
      },
      "source": [
        "plt.scatter(\"Property_Name\", \"Review_Rating\", data=table)\n",
        "table.corr()"
      ],
      "execution_count": 0,
      "outputs": [
        {
          "output_type": "execute_result",
          "data": {
            "text/html": [
              "<div>\n",
              "<style scoped>\n",
              "    .dataframe tbody tr th:only-of-type {\n",
              "        vertical-align: middle;\n",
              "    }\n",
              "\n",
              "    .dataframe tbody tr th {\n",
              "        vertical-align: top;\n",
              "    }\n",
              "\n",
              "    .dataframe thead th {\n",
              "        text-align: right;\n",
              "    }\n",
              "</style>\n",
              "<table border=\"1\" class=\"dataframe\">\n",
              "  <thead>\n",
              "    <tr style=\"text-align: right;\">\n",
              "      <th></th>\n",
              "      <th>Property_Name</th>\n",
              "      <th>Review_Rating</th>\n",
              "    </tr>\n",
              "  </thead>\n",
              "  <tbody>\n",
              "    <tr>\n",
              "      <th>Property_Name</th>\n",
              "      <td>1.000000</td>\n",
              "      <td>0.453775</td>\n",
              "    </tr>\n",
              "    <tr>\n",
              "      <th>Review_Rating</th>\n",
              "      <td>0.453775</td>\n",
              "      <td>1.000000</td>\n",
              "    </tr>\n",
              "  </tbody>\n",
              "</table>\n",
              "</div>"
            ],
            "text/plain": [
              "               Property_Name  Review_Rating\n",
              "Property_Name       1.000000       0.453775\n",
              "Review_Rating       0.453775       1.000000"
            ]
          },
          "metadata": {
            "tags": []
          },
          "execution_count": 163
        },
        {
          "output_type": "display_data",
          "data": {
            "image/png": "[encoded data removed]",
            "text/plain": [
              "<Figure size 432x288 with 1 Axes>"
            ]
          },
          "metadata": {
            "tags": []
          }
        }
      ]
    },
    {
      "cell_type": "markdown",
      "metadata": {
        "id": "9zf44UOqkIeH",
        "colab_type": "text"
      },
      "source": [
        "Correlation analysis between Hotel and reviews, can see that there is almost no correlation which is consistent with our findings"
      ]
    }
  ]
}